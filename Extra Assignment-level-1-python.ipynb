{
 "cells": [
  {
   "cell_type": "code",
   "execution_count": 1,
   "id": "4fa988ef-81df-404f-b19b-3890b7ef6dfe",
   "metadata": {},
   "outputs": [
    {
     "name": "stdout",
     "output_type": "stream",
     "text": [
      "HOPE AI\n"
     ]
    }
   ],
   "source": [
    "#print Statement\n",
    "print(\"HOPE AI\")"
   ]
  },
  {
   "cell_type": "code",
   "execution_count": 3,
   "id": "2f243d8a-50e9-47f3-ba6c-810a29dd1ebd",
   "metadata": {},
   "outputs": [
    {
     "name": "stdin",
     "output_type": "stream",
     "text": [
      "Enter your institute name? : HOPE AI\n"
     ]
    }
   ],
   "source": [
    "# Buy input\n",
    "ins_name = input(\"Enter your institute name? :\")"
   ]
  },
  {
   "cell_type": "code",
   "execution_count": 5,
   "id": "e6bd21d3-dfe5-4a0c-9c5e-228c44add164",
   "metadata": {},
   "outputs": [
    {
     "name": "stdin",
     "output_type": "stream",
     "text": [
      "Enter your name: Raj\n",
      "Enter your age: 15\n",
      "Enter your school name: Guru school\n",
      "Enter your degree: B.E CSE\n"
     ]
    }
   ],
   "source": [
    "#Buy Inputs\n",
    "name = input(\"Enter your name:\")\n",
    "age= int(input(\"Enter your age:\"))\n",
    "school_name=input(\"Enter your school name:\") \n",
    "degree= input(\"Enter your degree:\")"
   ]
  },
  {
   "cell_type": "code",
   "execution_count": 17,
   "id": "ca4a4140-f0bc-486a-aca8-1b94bb4a3e5e",
   "metadata": {},
   "outputs": [
    {
     "name": "stdout",
     "output_type": "stream",
     "text": [
      " a= 43 \n",
      " b= 34 \n",
      " Add= 77\n"
     ]
    }
   ],
   "source": [
    "#Addition\n",
    "a= 43\n",
    "b= 34\n",
    "print(\" a=\",a,\"\\n\",\"b=\",b,\"\\n\",\"Add=\",a+b)"
   ]
  },
  {
   "cell_type": "code",
   "execution_count": 19,
   "id": "6c8c2ae6-d3bb-437c-b99c-9953ef6e75e6",
   "metadata": {},
   "outputs": [
    {
     "name": "stdout",
     "output_type": "stream",
     "text": [
      " a= 43 \n",
      " b= 34 \n",
      " sub= 9\n"
     ]
    }
   ],
   "source": [
    "#Subctraction\n",
    "a= 43\n",
    "b= 34\n",
    "print(\" a=\",a,\"\\n\",\"b=\",b,\"\\n\",\"sub=\",a-b)"
   ]
  },
  {
   "cell_type": "code",
   "execution_count": 21,
   "id": "2b7d3d3c-88f6-4a64-810a-77b46d6f5f7b",
   "metadata": {},
   "outputs": [
    {
     "name": "stdout",
     "output_type": "stream",
     "text": [
      " a= 63 \n",
      " b= 97 \n",
      " Mul= 6111\n"
     ]
    }
   ],
   "source": [
    "#Subctraction\n",
    "a= 63\n",
    "b= 97\n",
    "print(\" a=\",a,\"\\n\",\"b=\",b,\"\\n\",\"Mul=\",a*b)"
   ]
  },
  {
   "cell_type": "code",
   "execution_count": 25,
   "id": "1bac0391-8732-4d2c-b699-c38412b7ac78",
   "metadata": {},
   "outputs": [
    {
     "name": "stdout",
     "output_type": "stream",
     "text": [
      " a= 76 \n",
      " b= 31 \n",
      " Float Div= 2.4516129032258065\n"
     ]
    }
   ],
   "source": [
    "#Division\n",
    "a= 76\n",
    "b= 31\n",
    "print(\" a=\",a,\"\\n\",\"b=\",b,\"\\n\",\"Float Div=\",float(a/b))"
   ]
  },
  {
   "cell_type": "code",
   "execution_count": 31,
   "id": "21e3b0cb-47ed-409d-b55b-4122d2d9ecb0",
   "metadata": {},
   "outputs": [
    {
     "name": "stdout",
     "output_type": "stream",
     "text": [
      " a= 76 \n",
      " b= 31 \n",
      " Floor Div= 2\n"
     ]
    }
   ],
   "source": [
    "#Floor Division\n",
    "a= 76\n",
    "b= 31\n",
    "print(\" a=\",a,\"\\n\",\"b=\",b,\"\\n\",\"Floor Div=\",a//b)"
   ]
  },
  {
   "cell_type": "code",
   "execution_count": 33,
   "id": "d18db2ed-31ad-4b88-ab92-fcb24ef57571",
   "metadata": {},
   "outputs": [
    {
     "name": "stdout",
     "output_type": "stream",
     "text": [
      " a= 76 \n",
      " b= 31 \n",
      " Modulo= 14\n"
     ]
    }
   ],
   "source": [
    "#Modulo\n",
    "a= 76\n",
    "b= 31\n",
    "print(\" a=\",a,\"\\n\",\"b=\",b,\"\\n\",\"Modulo=\",a%b)"
   ]
  },
  {
   "cell_type": "code",
   "execution_count": 35,
   "id": "d157287a-7a19-45db-bb43-16977ac5ee63",
   "metadata": {},
   "outputs": [
    {
     "name": "stdout",
     "output_type": "stream",
     "text": [
      " a= 4 \n",
      " b= 4 \n",
      " Power= 256\n"
     ]
    }
   ],
   "source": [
    "#Power\n",
    "a= 4\n",
    "b= 4\n",
    "print(\" a=\",a,\"\\n\",\"b=\",b,\"\\n\",\"Power=\",pow(a,b))"
   ]
  },
  {
   "cell_type": "code",
   "execution_count": null,
   "id": "23ed8ae9-a0ec-4b32-a4a7-edd27d5def69",
   "metadata": {},
   "outputs": [],
   "source": []
  }
 ],
 "metadata": {
  "kernelspec": {
   "display_name": "Python 3 (ipykernel)",
   "language": "python",
   "name": "python3"
  },
  "language_info": {
   "codemirror_mode": {
    "name": "ipython",
    "version": 3
   },
   "file_extension": ".py",
   "mimetype": "text/x-python",
   "name": "python",
   "nbconvert_exporter": "python",
   "pygments_lexer": "ipython3",
   "version": "3.12.4"
  }
 },
 "nbformat": 4,
 "nbformat_minor": 5
}
