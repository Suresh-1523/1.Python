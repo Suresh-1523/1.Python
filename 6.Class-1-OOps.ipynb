{
 "cells": [
  {
   "cell_type": "code",
   "execution_count": 1,
   "id": "e81165b3-8da7-48a6-a4f4-14fbcd30d39b",
   "metadata": {},
   "outputs": [],
   "source": [
    "def agecategory():\n",
    "    if(age < 18):\n",
    "        print(\"Children\")\n",
    "        cate=\"Children\"\n",
    "    elif(age < 35):\n",
    "        print(\"Adult\")\n",
    "        cate=\"Adult\"\n",
    "    elif(age < 59):\n",
    "        print(\"Citizen\")\n",
    "        cate=\"Citizen\"\n",
    "    else:\n",
    "        print(\"Senior Citizen\")\n",
    "        cate=\"Senior Citizen\"\n",
    "    return cate"
   ]
  },
  {
   "cell_type": "code",
   "execution_count": 5,
   "id": "b9ca039b-9477-4d56-a8d0-9f3e29b52592",
   "metadata": {},
   "outputs": [
    {
     "name": "stdin",
     "output_type": "stream",
     "text": [
      "Enter the Age: 35\n"
     ]
    },
    {
     "name": "stdout",
     "output_type": "stream",
     "text": [
      "Citizen\n",
      "Citizen\n"
     ]
    }
   ],
   "source": [
    "age=int(input(\"Enter the Age:\"))\n",
    "agecat=agecategory()\n",
    "print(agecat)"
   ]
  },
  {
   "cell_type": "code",
   "execution_count": 5,
   "id": "a8c6d6ee-7a00-45b0-8e20-5167c086ae85",
   "metadata": {},
   "outputs": [],
   "source": [
    "def oddEven():\n",
    "    num=int(input(\"Enter the number:\"))\n",
    "    if ((num%2) == 1):\n",
    "         print(\"Odd Number\")\n",
    "         msg=\"Odd Number\"\n",
    "    else:\n",
    "        print(\"Even Number\")\n",
    "        msg=\"Even Number\"\n",
    "    return msg\n"
   ]
  },
  {
   "cell_type": "code",
   "execution_count": 11,
   "id": "42732b47-61a9-4d82-92f2-72fab3638c28",
   "metadata": {},
   "outputs": [
    {
     "name": "stdin",
     "output_type": "stream",
     "text": [
      "Enter the number: 5\n"
     ]
    },
    {
     "name": "stdout",
     "output_type": "stream",
     "text": [
      "Odd Number\n",
      "Given number is odd\n"
     ]
    }
   ],
   "source": [
    "message=oddEven()\n",
    "if (message== \"Odd Number\"):\n",
    "    print(\"Given number is odd\")\n",
    "else:\n",
    "    print(\"Given number is Even\")"
   ]
  },
  {
   "cell_type": "code",
   "execution_count": 13,
   "id": "d404a0ce-d0ef-42fa-8ebe-a6f4dd6ea5bd",
   "metadata": {},
   "outputs": [],
   "source": [
    "def BMI():\n",
    "    bmi_index = float(input(\"Enter the BMI Index :\"))\n",
    "    if (bmi_index < 18.5):\n",
    "        print(\"Under Weight\")\n",
    "        msg=\"Under Weight\"\n",
    "    elif(bmi_index < 24.9):\n",
    "        print(\"Normal Weight\")\n",
    "        msg=\"Normal Weight\"\n",
    "    elif(bmi_index < 29.9):\n",
    "        print(\"Pre-obesity\")\n",
    "        msg=\"Pre-obesity\"\n",
    "    elif(bmi_index < 34.9):\n",
    "        print(\"Very Overweight\")\n",
    "        msg=\"Very Overweight\"\n",
    "    elif(bmi_index < 39.9):\n",
    "        print(\"Obesity Class-II\")\n",
    "        msg=\"Obesity Class-II\"\n",
    "    else:\n",
    "        print(\"Obesity Class-III\")\n",
    "        msg=\"Obesity Class-III\"\n",
    "    return msg\n",
    "    "
   ]
  },
  {
   "cell_type": "code",
   "execution_count": 15,
   "id": "038fdff7-27fd-4a8f-a626-f6655952c092",
   "metadata": {},
   "outputs": [
    {
     "name": "stdin",
     "output_type": "stream",
     "text": [
      "Enter the BMI Index : 34\n"
     ]
    },
    {
     "name": "stdout",
     "output_type": "stream",
     "text": [
      "Very Overweight\n"
     ]
    }
   ],
   "source": [
    "msg=BMI()\n"
   ]
  },
  {
   "cell_type": "code",
   "execution_count": null,
   "id": "32615871-7d07-4f25-b755-842ef77866b6",
   "metadata": {},
   "outputs": [],
   "source": [
    "#Function with arguments or parameterized function"
   ]
  },
  {
   "cell_type": "code",
   "execution_count": 29,
   "id": "23a2f61e-1747-4489-a87b-a0dbd52c6607",
   "metadata": {},
   "outputs": [],
   "source": [
    "def add(num1,num2):\n",
    "    add = num1+num2\n",
    "    return add\n",
    "def sub(num1,num2):\n",
    "    sub = num1-num2\n",
    "    return sub\n"
   ]
  },
  {
   "cell_type": "code",
   "execution_count": 41,
   "id": "8f7a6e68-fcdc-4bba-b7c6-cf2d94225625",
   "metadata": {},
   "outputs": [
    {
     "data": {
      "text/plain": [
       "11"
      ]
     },
     "execution_count": 41,
     "metadata": {},
     "output_type": "execute_result"
    }
   ],
   "source": [
    "add(5,6)\n"
   ]
  },
  {
   "cell_type": "code",
   "execution_count": 43,
   "id": "9107ca83-822e-4750-91c9-ee5469ca0e39",
   "metadata": {},
   "outputs": [
    {
     "data": {
      "text/plain": [
       "4"
      ]
     },
     "execution_count": 43,
     "metadata": {},
     "output_type": "execute_result"
    }
   ],
   "source": [
    "sub(7,3)"
   ]
  },
  {
   "cell_type": "code",
   "execution_count": 3,
   "id": "369c9d0d-1435-4109-8191-0be66df6a19e",
   "metadata": {},
   "outputs": [],
   "source": [
    "class multi_function():\n",
    "    def oddEven():\n",
    "        num=int(input(\"Enter the number:\"))\n",
    "        if ((num%2) == 1):\n",
    "             print(\"Odd Number\")\n",
    "             msg=\"Odd Number\"\n",
    "        else:\n",
    "            print(\"Even Number\")\n",
    "            msg=\"Even Number\"\n",
    "        return msg\n",
    "    def BMI():\n",
    "        bmi_index = float(input(\"Enter the BMI Index :\"))\n",
    "        if (bmi_index < 18.5):\n",
    "            print(\"Under Weight\")\n",
    "            msg=\"Under Weight\"\n",
    "        elif(bmi_index < 24.9):\n",
    "            print(\"Normal Weight\")\n",
    "            msg=\"Normal Weight\"\n",
    "        elif(bmi_index < 29.9):\n",
    "            print(\"Pre-obesity\")\n",
    "            msg=\"Pre-obesity\"\n",
    "        elif(bmi_index < 34.9):\n",
    "            print(\"Very Overweight\")\n",
    "            msg=\"Very Overweight\"\n",
    "        elif(bmi_index < 39.9):\n",
    "            print(\"Obesity Class-II\")\n",
    "            msg=\"Obesity Class-II\"\n",
    "        else:\n",
    "            print(\"Obesity Class-III\")\n",
    "            msg=\"Obesity Class-III\"\n",
    "        return msg\n",
    "    "
   ]
  },
  {
   "cell_type": "code",
   "execution_count": 7,
   "id": "d8fc73f3-e98c-47b0-b7f6-6fa8bb1dfaea",
   "metadata": {},
   "outputs": [
    {
     "name": "stdin",
     "output_type": "stream",
     "text": [
      "Enter the number: 52452\n"
     ]
    },
    {
     "name": "stdout",
     "output_type": "stream",
     "text": [
      "Even Number\n"
     ]
    },
    {
     "data": {
      "text/plain": [
       "'Even Number'"
      ]
     },
     "execution_count": 7,
     "metadata": {},
     "output_type": "execute_result"
    }
   ],
   "source": [
    "multi_function.oddEven()\n"
   ]
  },
  {
   "cell_type": "code",
   "execution_count": null,
   "id": "03902170-38b4-4d78-be7b-68cebacd7dd1",
   "metadata": {},
   "outputs": [],
   "source": []
  }
 ],
 "metadata": {
  "kernelspec": {
   "display_name": "Python 3 (ipykernel)",
   "language": "python",
   "name": "python3"
  },
  "language_info": {
   "codemirror_mode": {
    "name": "ipython",
    "version": 3
   },
   "file_extension": ".py",
   "mimetype": "text/x-python",
   "name": "python",
   "nbconvert_exporter": "python",
   "pygments_lexer": "ipython3",
   "version": "3.12.4"
  }
 },
 "nbformat": 4,
 "nbformat_minor": 5
}
