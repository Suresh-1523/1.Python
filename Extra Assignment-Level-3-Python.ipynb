{
 "cells": [
  {
   "cell_type": "code",
   "execution_count": 7,
   "id": "2b9045be-bc62-4a76-b460-f408ab31fba5",
   "metadata": {},
   "outputs": [
    {
     "name": "stdin",
     "output_type": "stream",
     "text": [
      "Value: 10\n"
     ]
    },
    {
     "name": "stdout",
     "output_type": "stream",
     "text": [
      "CORRECT\n"
     ]
    }
   ],
   "source": [
    "# print 'CORRECT' if i == 10\n",
    "i= int(input(\"Value:\"))\n",
    "if (i == 10):\n",
    "    print(\"CORRECT\")"
   ]
  },
  {
   "cell_type": "code",
   "execution_count": 147,
   "id": "a1917676-6834-4c11-9dea-deaffe68605b",
   "metadata": {},
   "outputs": [
    {
     "name": "stdin",
     "output_type": "stream",
     "text": [
      "Enter the password: HOPE@123\n"
     ]
    },
    {
     "name": "stdout",
     "output_type": "stream",
     "text": [
      "Your password is correct\n"
     ]
    }
   ],
   "source": [
    "sym1 = ['$', '@', '#', '%']\n",
    "val = True\n",
    "passwd = input(\"Enter the password:\")\n",
    "if (len(passwd) == 8):\n",
    "    if not any(chr.isdigit() for chr in passwd):\n",
    "        val=False\n",
    "    if not any(chr in sym1 for chr in passwd):\n",
    "        val=False\n",
    "    if val:\n",
    "        print(\"Your password is correct\")\n",
    "    else:\n",
    "        print(\"Invalid Password\")\n",
    "else:\n",
    "   print(\"Password length should be 8\")\n"
   ]
  },
  {
   "cell_type": "code",
   "execution_count": 151,
   "id": "342fa7d6-a17a-41ed-b91a-e5e5fbfe3a54",
   "metadata": {},
   "outputs": [
    {
     "name": "stdin",
     "output_type": "stream",
     "text": [
      "Enter the Age: 35\n"
     ]
    },
    {
     "name": "stdout",
     "output_type": "stream",
     "text": [
      "Citizen\n"
     ]
    }
   ],
   "source": [
    "# Catagory the people by their age like children, adult, citizen, senior citizen...\n",
    "age=int(input(\"Enter the Age:\"))\n",
    "if(age < 18):\n",
    "    print(\"Children\")\n",
    "elif(age < 35):\n",
    "    print(\"Adult\")\n",
    "elif(age < 59):\n",
    "    print(\"Citizen\")\n",
    "else:\n",
    "    print(\"Senior Citizen\")"
   ]
  },
  {
   "cell_type": "code",
   "execution_count": 157,
   "id": "ccf4e8cb-7199-42f9-abac-99794ad3e51d",
   "metadata": {},
   "outputs": [
    {
     "name": "stdin",
     "output_type": "stream",
     "text": [
      "Enter any Number: 1\n"
     ]
    },
    {
     "name": "stdout",
     "output_type": "stream",
     "text": [
      "No is Positive\n"
     ]
    }
   ],
   "source": [
    "# Find whether given number is positive or negative\n",
    "num=int(input(\"Enter any Number:\"))\n",
    "if (num >= 1):\n",
    "    print(\"No is Positive\")\n",
    "else:\n",
    "    print(\"No is Negative\")"
   ]
  },
  {
   "cell_type": "code",
   "execution_count": 163,
   "id": "00d9547c-92d7-4bd1-ac54-5732948cc66e",
   "metadata": {},
   "outputs": [
    {
     "name": "stdin",
     "output_type": "stream",
     "text": [
      "Enter any number to check: 22\n"
     ]
    },
    {
     "name": "stdout",
     "output_type": "stream",
     "text": [
      "No is not divisible by 5\n"
     ]
    }
   ],
   "source": [
    "# Check whether the given number is divisible by 5\n",
    "num=int(input(\"Enter any number to check:\"))\n",
    "if (num % 5 == 0):\n",
    "    print(\"No is divisible by 5\")\n",
    "else:\n",
    "    print(\"No is not divisible by 5\")"
   ]
  },
  {
   "cell_type": "code",
   "execution_count": null,
   "id": "77c70c66-827c-4b4b-b2b9-800addced7a8",
   "metadata": {},
   "outputs": [],
   "source": []
  }
 ],
 "metadata": {
  "kernelspec": {
   "display_name": "Python 3 (ipykernel)",
   "language": "python",
   "name": "python3"
  },
  "language_info": {
   "codemirror_mode": {
    "name": "ipython",
    "version": 3
   },
   "file_extension": ".py",
   "mimetype": "text/x-python",
   "name": "python",
   "nbconvert_exporter": "python",
   "pygments_lexer": "ipython3",
   "version": "3.12.4"
  }
 },
 "nbformat": 4,
 "nbformat_minor": 5
}
