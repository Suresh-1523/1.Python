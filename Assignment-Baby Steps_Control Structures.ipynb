{
 "cells": [
  {
   "cell_type": "code",
   "execution_count": 1,
   "id": "2a336af2-4c60-465a-a34a-fd3d009daa7d",
   "metadata": {},
   "outputs": [
    {
     "name": "stdout",
     "output_type": "stream",
     "text": [
      "Welcome to Assignment-1\n"
     ]
    }
   ],
   "source": [
    "print(\"Welcome to Assignment-1\")"
   ]
  },
  {
   "cell_type": "code",
   "execution_count": 7,
   "id": "f41f769b-dc65-4ae4-9791-305434a5f0da",
   "metadata": {},
   "outputs": [
    {
     "name": "stdout",
     "output_type": "stream",
     "text": [
      "Num1=  10\n",
      "Num2=  30\n",
      "Add=  40\n"
     ]
    }
   ],
   "source": [
    "num1 = 10\n",
    "num2 = 30\n",
    "add = num1 + num2\n",
    "print(\"Num1= \",num1)\n",
    "print(\"Num2= \",num2)\n",
    "print(\"Add= \",add)\n"
   ]
  },
  {
   "cell_type": "code",
   "execution_count": 35,
   "id": "ddf9003e-4b07-4144-9e0e-7cff73dcf750",
   "metadata": {},
   "outputs": [
    {
     "name": "stdin",
     "output_type": "stream",
     "text": [
      "Enter the BMI Index : 34.5\n"
     ]
    },
    {
     "name": "stdout",
     "output_type": "stream",
     "text": [
      "Very Overweight\n"
     ]
    }
   ],
   "source": [
    "#Body Mass Index\n",
    "bmi_index = float(input(\"Enter the BMI Index :\"))\n",
    "if (bmi_index < 18.5):\n",
    "    print(\"Under Weight\")\n",
    "elif(bmi_index < 24.9):\n",
    "    print(\"Normal Weight\")\n",
    "elif(bmi_index < 29.9):\n",
    "    print(\"Pre-obesity\")\n",
    "elif(bmi_index < 34.9):\n",
    "    print(\"Very Overweight\")\n",
    "elif(bmi_index < 39.9):\n",
    "    print(\"Obesity Class-II\")\n",
    "else:\n",
    "    print(\"Obesity Class-III\")\n",
    "    "
   ]
  },
  {
   "cell_type": "code",
   "execution_count": null,
   "id": "f25778cb-2019-4eb8-b838-7bc9d7ed5b2c",
   "metadata": {},
   "outputs": [],
   "source": []
  }
 ],
 "metadata": {
  "kernelspec": {
   "display_name": "Python 3 (ipykernel)",
   "language": "python",
   "name": "python3"
  },
  "language_info": {
   "codemirror_mode": {
    "name": "ipython",
    "version": 3
   },
   "file_extension": ".py",
   "mimetype": "text/x-python",
   "name": "python",
   "nbconvert_exporter": "python",
   "pygments_lexer": "ipython3",
   "version": "3.12.4"
  }
 },
 "nbformat": 4,
 "nbformat_minor": 5
}
