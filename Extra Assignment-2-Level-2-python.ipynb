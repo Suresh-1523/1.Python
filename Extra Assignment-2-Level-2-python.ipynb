{
 "cells": [
  {
   "cell_type": "code",
   "execution_count": 1,
   "id": "9fc7aca2-4c12-413c-8ec2-49e0b7eafad2",
   "metadata": {},
   "outputs": [
    {
     "name": "stdout",
     "output_type": "stream",
     "text": [
      "0\n",
      "1\n",
      "2\n",
      "3\n",
      "4\n",
      "5\n",
      "6\n",
      "7\n",
      "8\n",
      "9\n",
      "10\n",
      "11\n",
      "12\n",
      "13\n",
      "14\n",
      "15\n",
      "16\n",
      "17\n",
      "18\n",
      "19\n"
     ]
    }
   ],
   "source": [
    "# print 0 to 20 by using range\n",
    "for num in range(0,20):\n",
    "    print(num)"
   ]
  },
  {
   "cell_type": "code",
   "execution_count": 13,
   "id": "929990d9-b931-4830-af9e-8de1e464d932",
   "metadata": {},
   "outputs": [
    {
     "name": "stdout",
     "output_type": "stream",
     "text": [
      "10 11 12 13 14 15 16 17 18 19 "
     ]
    }
   ],
   "source": [
    "# print 10 to 20 by using range\n",
    "for num in range(10,20):\n",
    "    print(num,end =' ')"
   ]
  },
  {
   "cell_type": "code",
   "execution_count": 15,
   "id": "45700fde-9891-408f-a9ff-5d5444c70f2b",
   "metadata": {},
   "outputs": [
    {
     "name": "stdout",
     "output_type": "stream",
     "text": [
      "Number of item in the List2:\n",
      " 7\n"
     ]
    }
   ],
   "source": [
    "# Print number of items in the list by using 'len'\n",
    "list2=[10, 20, 14, 55, 43, 87, 76]\n",
    "print(\"Number of item in the List2:\\n\",len(list2))"
   ]
  },
  {
   "cell_type": "code",
   "execution_count": 17,
   "id": "ce3f2960-d736-445b-a642-ff1412fee1ff",
   "metadata": {},
   "outputs": [
    {
     "name": "stdout",
     "output_type": "stream",
     "text": [
      "A\n",
      "r\n",
      "t\n",
      "i\n",
      "f\n",
      "i\n",
      "c\n",
      "i\n",
      "a\n",
      "l\n",
      " \n",
      "I\n",
      "n\n",
      "t\n",
      "e\n",
      "l\n",
      "l\n",
      "i\n",
      "g\n",
      "e\n",
      "n\n",
      "c\n",
      "e\n"
     ]
    }
   ],
   "source": [
    "str1=\"Artificial Intelligence\"\n",
    "for char in str1:\n",
    "    print(char)\n"
   ]
  },
  {
   "cell_type": "code",
   "execution_count": 25,
   "id": "512ab1f7-bf4a-422e-a780-23a7146b7252",
   "metadata": {},
   "outputs": [
    {
     "name": "stdout",
     "output_type": "stream",
     "text": [
      "-Suresh Varatharaj-\n",
      "- 41- \n",
      "- Infrastructure Architect-\n",
      "\n"
     ]
    }
   ],
   "source": [
    "print(\"-Suresh Varatharaj-\\n- 41- \\n- Infrastructure Architect-\\n\")"
   ]
  },
  {
   "cell_type": "code",
   "execution_count": 27,
   "id": "ceff53b5-995a-4eb0-b9bd-6c11d34ac180",
   "metadata": {},
   "outputs": [
    {
     "name": "stdout",
     "output_type": "stream",
     "text": [
      "(1, 'Welcome', 2, 'Hope')\n"
     ]
    }
   ],
   "source": [
    "tuple1=(1, 'Welcome', 2, 'Hope')\n",
    "print(tuple1)"
   ]
  },
  {
   "cell_type": "code",
   "execution_count": 35,
   "id": "d74a35db-a41c-446a-982a-451ab57e8c47",
   "metadata": {},
   "outputs": [
    {
     "name": "stdout",
     "output_type": "stream",
     "text": [
      "((0, 1, 2, 3), ('python', 'HOPE'))\n"
     ]
    }
   ],
   "source": [
    "Tuple1 = (0, 1, 2, 3)\n",
    "Tuple2 = ('python', 'HOPE')\n",
    "Tuple3 =(Tuple1,Tuple2)\n",
    "print(Tuple3)"
   ]
  },
  {
   "cell_type": "code",
   "execution_count": 39,
   "id": "95f49a8d-4f94-4452-be77-d43de003738e",
   "metadata": {},
   "outputs": [
    {
     "name": "stdout",
     "output_type": "stream",
     "text": [
      "19 is Odd\n",
      "25 is Odd\n",
      "1 is Odd\n"
     ]
    }
   ],
   "source": [
    "# print Odd Numbers in the list\n",
    "list3=(20,10,16,19,25,1,276,188)\n",
    "for num in list3:\n",
    "    if (num%2 == 1):\n",
    "        print(num,\"is Odd\")"
   ]
  },
  {
   "cell_type": "code",
   "execution_count": 41,
   "id": "862959ae-4b33-497f-8fac-2f8366b1eaf4",
   "metadata": {},
   "outputs": [
    {
     "name": "stdout",
     "output_type": "stream",
     "text": [
      "20 is Even\n",
      "10 is Even\n",
      "16 is Even\n",
      "276 is Even\n",
      "188 is Even\n"
     ]
    }
   ],
   "source": [
    "# print Odd Numbers in the list\n",
    "list3=(20,10,16,19,25,1,276,188)\n",
    "for num in list3:\n",
    "    if (num%2 == 0):\n",
    "        print(num,\"is Even\")"
   ]
  },
  {
   "cell_type": "code",
   "execution_count": null,
   "id": "062093f2-365f-49b4-b29e-277c500b6fa4",
   "metadata": {},
   "outputs": [],
   "source": []
  }
 ],
 "metadata": {
  "kernelspec": {
   "display_name": "Python 3 (ipykernel)",
   "language": "python",
   "name": "python3"
  },
  "language_info": {
   "codemirror_mode": {
    "name": "ipython",
    "version": 3
   },
   "file_extension": ".py",
   "mimetype": "text/x-python",
   "name": "python",
   "nbconvert_exporter": "python",
   "pygments_lexer": "ipython3",
   "version": "3.12.4"
  }
 },
 "nbformat": 4,
 "nbformat_minor": 5
}
